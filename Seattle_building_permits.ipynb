{
 "cells": [
  {
   "cell_type": "markdown",
   "metadata": {},
   "source": [
    "# Seattle Building Permits"
   ]
  },
  {
   "cell_type": "markdown",
   "metadata": {},
   "source": [
    "I've been wanting to do some research into the building boom here in Seattle for a while.  Thanks to the city's [open data initiative](https://data.seattle.gov/browse?sortBy=most_accessed&sortPeriod=week) powered by Socrata, there is readily available information to get started.  Perhaps ultimately this could be tied into a larger project around affordable housing.  I know that there is a basic supply and demand arguement to be made for how all these cranes are going to help the situation, but just based on my own observations, there seem to be way more luxury high rises than modest housing units going up."
   ]
  },
  {
   "cell_type": "code",
   "execution_count": 1,
   "metadata": {
    "collapsed": false
   },
   "outputs": [],
   "source": [
    "%matplotlib inline\n",
    "import pandas as pd\n",
    "import numpy as np\n",
    "import seaborn as sns\n",
    "import matplotlib.pyplot as plt\n",
    "from datetime import datetime\n",
    "import re"
   ]
  },
  {
   "cell_type": "markdown",
   "metadata": {},
   "source": [
    "## Get Data"
   ]
  },
  {
   "cell_type": "code",
   "execution_count": 2,
   "metadata": {
    "collapsed": false
   },
   "outputs": [
    {
     "data": {
      "text/html": [
       "<div>\n",
       "<table border=\"1\" class=\"dataframe\">\n",
       "  <thead>\n",
       "    <tr style=\"text-align: right;\">\n",
       "      <th></th>\n",
       "      <th>:@computed_region_2day_rhn5</th>\n",
       "      <th>:@computed_region_cyqu_gs94</th>\n",
       "      <th>:@computed_region_kuhn_3gp2</th>\n",
       "      <th>:@computed_region_q256_3sug</th>\n",
       "      <th>action_type</th>\n",
       "      <th>address</th>\n",
       "      <th>applicant_name</th>\n",
       "      <th>application_date</th>\n",
       "      <th>application_permit_number</th>\n",
       "      <th>category</th>\n",
       "      <th>...</th>\n",
       "      <th>latitude</th>\n",
       "      <th>location</th>\n",
       "      <th>location_address</th>\n",
       "      <th>longitude</th>\n",
       "      <th>master_use_permit</th>\n",
       "      <th>permit_and_complaint_status_url</th>\n",
       "      <th>permit_type</th>\n",
       "      <th>status</th>\n",
       "      <th>value</th>\n",
       "      <th>work_type</th>\n",
       "    </tr>\n",
       "  </thead>\n",
       "  <tbody>\n",
       "    <tr>\n",
       "      <th>0</th>\n",
       "      <td>NaN</td>\n",
       "      <td>NaN</td>\n",
       "      <td>28.0</td>\n",
       "      <td>18792.0</td>\n",
       "      <td>NEW</td>\n",
       "      <td>1233 NE 88TH ST</td>\n",
       "      <td>BIDDLE, DAVE</td>\n",
       "      <td>2016-12-19T00:00:00.000</td>\n",
       "      <td>6564183</td>\n",
       "      <td>SINGLE FAMILY / DUPLEX</td>\n",
       "      <td>...</td>\n",
       "      <td>47.691846</td>\n",
       "      <td>{'coordinates': [-122.313688, 47.691846], 'typ...</td>\n",
       "      <td>1233 NE 88TH ST</td>\n",
       "      <td>-122.313688</td>\n",
       "      <td>3025890.0</td>\n",
       "      <td>http://web6.seattle.gov/dpd/PermitStatus/Proje...</td>\n",
       "      <td>Construction</td>\n",
       "      <td>Application Accepted</td>\n",
       "      <td>478973</td>\n",
       "      <td>Plan Review</td>\n",
       "    </tr>\n",
       "    <tr>\n",
       "      <th>1</th>\n",
       "      <td>NaN</td>\n",
       "      <td>NaN</td>\n",
       "      <td>48.0</td>\n",
       "      <td>18792.0</td>\n",
       "      <td>ADD/ALT</td>\n",
       "      <td>6008 29TH AVE NE</td>\n",
       "      <td>JACKSON, LEIF</td>\n",
       "      <td>2016-12-21T00:00:00.000</td>\n",
       "      <td>6563910</td>\n",
       "      <td>SINGLE FAMILY / DUPLEX</td>\n",
       "      <td>...</td>\n",
       "      <td>47.672460</td>\n",
       "      <td>{'coordinates': [-122.29612, 47.67246], 'type'...</td>\n",
       "      <td>6008 29TH AVE NE</td>\n",
       "      <td>-122.296120</td>\n",
       "      <td>NaN</td>\n",
       "      <td>http://web6.seattle.gov/dpd/PermitStatus/Proje...</td>\n",
       "      <td>Construction</td>\n",
       "      <td>Permit Issued</td>\n",
       "      <td>5655</td>\n",
       "      <td>Plan Review</td>\n",
       "    </tr>\n",
       "    <tr>\n",
       "      <th>2</th>\n",
       "      <td>NaN</td>\n",
       "      <td>NaN</td>\n",
       "      <td>13.0</td>\n",
       "      <td>18385.0</td>\n",
       "      <td>ADD/ALT</td>\n",
       "      <td>5214 DELRIDGE WAY SW</td>\n",
       "      <td>MIHLON, MATTHEW D</td>\n",
       "      <td>2016-09-12T00:00:00.000</td>\n",
       "      <td>6536904</td>\n",
       "      <td>COMMERCIAL</td>\n",
       "      <td>...</td>\n",
       "      <td>47.554495</td>\n",
       "      <td>{'coordinates': [-122.362727, 47.554495], 'typ...</td>\n",
       "      <td>5214 DELRIDGE WAY SW</td>\n",
       "      <td>-122.362727</td>\n",
       "      <td>NaN</td>\n",
       "      <td>http://web6.seattle.gov/dpd/PermitStatus/Proje...</td>\n",
       "      <td>Construction</td>\n",
       "      <td>Permit Issued</td>\n",
       "      <td>5000</td>\n",
       "      <td>Plan Review</td>\n",
       "    </tr>\n",
       "    <tr>\n",
       "      <th>3</th>\n",
       "      <td>NaN</td>\n",
       "      <td>NaN</td>\n",
       "      <td>43.0</td>\n",
       "      <td>18800.0</td>\n",
       "      <td>ADD/ALT</td>\n",
       "      <td>5425 57TH AVE S</td>\n",
       "      <td>MOODY, WILLIAM</td>\n",
       "      <td>2017-01-23T00:00:00.000</td>\n",
       "      <td>6561114</td>\n",
       "      <td>SINGLE FAMILY / DUPLEX</td>\n",
       "      <td>...</td>\n",
       "      <td>47.552729</td>\n",
       "      <td>{'coordinates': [-122.262284, 47.552729], 'typ...</td>\n",
       "      <td>5425 57TH AVE S</td>\n",
       "      <td>-122.262284</td>\n",
       "      <td>NaN</td>\n",
       "      <td>http://web6.seattle.gov/dpd/PermitStatus/Proje...</td>\n",
       "      <td>Construction</td>\n",
       "      <td>Permit Issued</td>\n",
       "      <td>1000</td>\n",
       "      <td>No plan review</td>\n",
       "    </tr>\n",
       "    <tr>\n",
       "      <th>4</th>\n",
       "      <td>NaN</td>\n",
       "      <td>NaN</td>\n",
       "      <td>18.0</td>\n",
       "      <td>17919.0</td>\n",
       "      <td>ADD/ALT</td>\n",
       "      <td>302 LAKESIDE AVE S</td>\n",
       "      <td>LAZERWITZ, JAY</td>\n",
       "      <td>NaN</td>\n",
       "      <td>6576550</td>\n",
       "      <td>MULTIFAMILY</td>\n",
       "      <td>...</td>\n",
       "      <td>47.599685</td>\n",
       "      <td>{'coordinates': [-122.285813, 47.599686], 'typ...</td>\n",
       "      <td>302 LAKESIDE AVE S</td>\n",
       "      <td>-122.285813</td>\n",
       "      <td>NaN</td>\n",
       "      <td>http://web6.seattle.gov/dpd/PermitStatus/Proje...</td>\n",
       "      <td>Construction</td>\n",
       "      <td>Initial Information Collected</td>\n",
       "      <td>0</td>\n",
       "      <td>Plan Review</td>\n",
       "    </tr>\n",
       "  </tbody>\n",
       "</table>\n",
       "<p>5 rows × 25 columns</p>\n",
       "</div>"
      ],
      "text/plain": [
       "   :@computed_region_2day_rhn5  :@computed_region_cyqu_gs94  \\\n",
       "0                          NaN                          NaN   \n",
       "1                          NaN                          NaN   \n",
       "2                          NaN                          NaN   \n",
       "3                          NaN                          NaN   \n",
       "4                          NaN                          NaN   \n",
       "\n",
       "   :@computed_region_kuhn_3gp2  :@computed_region_q256_3sug action_type  \\\n",
       "0                         28.0                      18792.0         NEW   \n",
       "1                         48.0                      18792.0     ADD/ALT   \n",
       "2                         13.0                      18385.0     ADD/ALT   \n",
       "3                         43.0                      18800.0     ADD/ALT   \n",
       "4                         18.0                      17919.0     ADD/ALT   \n",
       "\n",
       "                address     applicant_name         application_date  \\\n",
       "0       1233 NE 88TH ST       BIDDLE, DAVE  2016-12-19T00:00:00.000   \n",
       "1      6008 29TH AVE NE      JACKSON, LEIF  2016-12-21T00:00:00.000   \n",
       "2  5214 DELRIDGE WAY SW  MIHLON, MATTHEW D  2016-09-12T00:00:00.000   \n",
       "3       5425 57TH AVE S     MOODY, WILLIAM  2017-01-23T00:00:00.000   \n",
       "4    302 LAKESIDE AVE S     LAZERWITZ, JAY                      NaN   \n",
       "\n",
       "   application_permit_number                category       ...        \\\n",
       "0                    6564183  SINGLE FAMILY / DUPLEX       ...         \n",
       "1                    6563910  SINGLE FAMILY / DUPLEX       ...         \n",
       "2                    6536904              COMMERCIAL       ...         \n",
       "3                    6561114  SINGLE FAMILY / DUPLEX       ...         \n",
       "4                    6576550             MULTIFAMILY       ...         \n",
       "\n",
       "    latitude                                           location  \\\n",
       "0  47.691846  {'coordinates': [-122.313688, 47.691846], 'typ...   \n",
       "1  47.672460  {'coordinates': [-122.29612, 47.67246], 'type'...   \n",
       "2  47.554495  {'coordinates': [-122.362727, 47.554495], 'typ...   \n",
       "3  47.552729  {'coordinates': [-122.262284, 47.552729], 'typ...   \n",
       "4  47.599685  {'coordinates': [-122.285813, 47.599686], 'typ...   \n",
       "\n",
       "       location_address   longitude master_use_permit  \\\n",
       "0       1233 NE 88TH ST -122.313688         3025890.0   \n",
       "1      6008 29TH AVE NE -122.296120               NaN   \n",
       "2  5214 DELRIDGE WAY SW -122.362727               NaN   \n",
       "3       5425 57TH AVE S -122.262284               NaN   \n",
       "4    302 LAKESIDE AVE S -122.285813               NaN   \n",
       "\n",
       "                     permit_and_complaint_status_url   permit_type  \\\n",
       "0  http://web6.seattle.gov/dpd/PermitStatus/Proje...  Construction   \n",
       "1  http://web6.seattle.gov/dpd/PermitStatus/Proje...  Construction   \n",
       "2  http://web6.seattle.gov/dpd/PermitStatus/Proje...  Construction   \n",
       "3  http://web6.seattle.gov/dpd/PermitStatus/Proje...  Construction   \n",
       "4  http://web6.seattle.gov/dpd/PermitStatus/Proje...  Construction   \n",
       "\n",
       "                          status   value       work_type  \n",
       "0           Application Accepted  478973     Plan Review  \n",
       "1                  Permit Issued    5655     Plan Review  \n",
       "2                  Permit Issued    5000     Plan Review  \n",
       "3                  Permit Issued    1000  No plan review  \n",
       "4  Initial Information Collected       0     Plan Review  \n",
       "\n",
       "[5 rows x 25 columns]"
      ]
     },
     "execution_count": 2,
     "metadata": {},
     "output_type": "execute_result"
    }
   ],
   "source": [
    "api_endpoint = \"https://data.seattle.gov/resource/i5jq-ms7b.json\"\n",
    "permits = pd.read_json(api_endpoint)\n",
    "permits.head()"
   ]
  },
  {
   "cell_type": "markdown",
   "metadata": {},
   "source": [
    "## Data Cleaning"
   ]
  },
  {
   "cell_type": "code",
   "execution_count": 3,
   "metadata": {
    "collapsed": false
   },
   "outputs": [
    {
     "data": {
      "text/plain": [
       "Index([':@computed_region_2day_rhn5', ':@computed_region_cyqu_gs94',\n",
       "       ':@computed_region_kuhn_3gp2', ':@computed_region_q256_3sug',\n",
       "       'action_type', 'address', 'applicant_name', 'application_date',\n",
       "       'application_permit_number', 'category', 'contractor', 'description',\n",
       "       'expiration_date', 'final_date', 'issue_date', 'latitude', 'location',\n",
       "       'location_address', 'longitude', 'master_use_permit',\n",
       "       'permit_and_complaint_status_url', 'permit_type', 'status', 'value',\n",
       "       'work_type'],\n",
       "      dtype='object')"
      ]
     },
     "execution_count": 3,
     "metadata": {},
     "output_type": "execute_result"
    }
   ],
   "source": [
    "permits.columns"
   ]
  },
  {
   "cell_type": "code",
   "execution_count": 4,
   "metadata": {
    "collapsed": false
   },
   "outputs": [],
   "source": [
    "# drop the first 4 columns\n",
    "permits = permits.iloc[:, 4:]\n",
    "\n",
    "#extract just date from application timestamp\n",
    "def extract_dt(timestamp):\n",
    "    if pd.isnull(timestamp):\n",
    "        return np.nan\n",
    "    else:\n",
    "        date_str = re.sub(r\"([0-9]{4}-[0-9]{2}-[0-9]{2})(.*)\", r\"\\1\", timestamp)\n",
    "        return datetime.strptime(date_str, \"%Y-%m-%d\")\n",
    "\n",
    "permits['app_date_cleaned'] = [extract_dt(elem) for elem in permits.application_date]"
   ]
  },
  {
   "cell_type": "code",
   "execution_count": 5,
   "metadata": {
    "collapsed": false
   },
   "outputs": [
    {
     "data": {
      "text/plain": [
       "1   2016-12-21\n",
       "2   2016-09-12\n",
       "3   2017-01-23\n",
       "4          NaT\n",
       "5   2016-03-25\n",
       "6          NaT\n",
       "7          NaT\n",
       "8          NaT\n",
       "9          NaT\n",
       "Name: app_date_cleaned, dtype: datetime64[ns]"
      ]
     },
     "execution_count": 5,
     "metadata": {},
     "output_type": "execute_result"
    }
   ],
   "source": [
    "permits.app_date_cleaned[1:10]"
   ]
  },
  {
   "cell_type": "markdown",
   "metadata": {},
   "source": [
    "## EDA"
   ]
  },
  {
   "cell_type": "code",
   "execution_count": 6,
   "metadata": {
    "collapsed": false
   },
   "outputs": [
    {
     "data": {
      "text/plain": [
       "(1000, 22)"
      ]
     },
     "execution_count": 6,
     "metadata": {},
     "output_type": "execute_result"
    }
   ],
   "source": [
    "permits.shape"
   ]
  },
  {
   "cell_type": "code",
   "execution_count": 7,
   "metadata": {
    "collapsed": false
   },
   "outputs": [
    {
     "data": {
      "image/png": "[encoded data removed]",
      "text/plain": [
       "<matplotlib.figure.Figure at 0x7f20aca59b00>"
      ]
     },
     "metadata": {},
     "output_type": "display_data"
    }
   ],
   "source": [
    "# distribution of permit status\n",
    "sns.countplot(x = \"status\", data = permits)\n",
    "plt.xticks(rotation = 90)\n",
    "plt.show()"
   ]
  },
  {
   "cell_type": "code",
   "execution_count": 8,
   "metadata": {
    "collapsed": false
   },
   "outputs": [
    {
     "data": {
      "image/png": "[encoded data removed]",
      "text/plain": [
       "<matplotlib.figure.Figure at 0x7f209e42a5f8>"
      ]
     },
     "metadata": {},
     "output_type": "display_data"
    }
   ],
   "source": [
    "sns.countplot(x = \"permit_type\", data = permits)\n",
    "plt.xticks(rotation = 90)\n",
    "plt.show()"
   ]
  },
  {
   "cell_type": "code",
   "execution_count": null,
   "metadata": {
    "collapsed": true
   },
   "outputs": [],
   "source": []
  }
 ],
 "metadata": {
  "anaconda-cloud": {},
  "kernelspec": {
   "display_name": "Python [conda root]",
   "language": "python",
   "name": "conda-root-py"
  },
  "language_info": {
   "codemirror_mode": {
    "name": "ipython",
    "version": 3
   },
   "file_extension": ".py",
   "mimetype": "text/x-python",
   "name": "python",
   "nbconvert_exporter": "python",
   "pygments_lexer": "ipython3",
   "version": "3.5.2"
  }
 },
 "nbformat": 4,
 "nbformat_minor": 1
}
